{
 "cells": [
  {
   "cell_type": "code",
   "execution_count": 4,
   "id": "55b5b88e",
   "metadata": {},
   "outputs": [
    {
     "name": "stdout",
     "output_type": "stream",
     "text": [
      "   cases location\n",
      "0     10   mumbai\n",
      "1     20    delhi\n",
      "2     30  kolkata\n"
     ]
    }
   ],
   "source": [
    "import pandas as pd\n",
    "cases={\n",
    "    \"cases\":[10,20,30], \"location\":[\"mumbai\",\"delhi\", \"kolkata\"]\n",
    "}\n",
    "\n",
    "df=pd.DataFrame(cases)\n",
    "print(df)"
   ]
  },
  {
   "cell_type": "code",
   "execution_count": null,
   "id": "f78e5a45",
   "metadata": {},
   "outputs": [],
   "source": []
  }
 ],
 "metadata": {
  "kernelspec": {
   "display_name": "Python 3",
   "language": "python",
   "name": "python3"
  },
  "language_info": {
   "codemirror_mode": {
    "name": "ipython",
    "version": 3
   },
   "file_extension": ".py",
   "mimetype": "text/x-python",
   "name": "python",
   "nbconvert_exporter": "python",
   "pygments_lexer": "ipython3",
   "version": "3.8.8"
  }
 },
 "nbformat": 4,
 "nbformat_minor": 5
}
